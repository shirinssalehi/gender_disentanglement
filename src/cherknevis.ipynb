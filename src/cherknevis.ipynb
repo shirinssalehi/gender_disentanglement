{
 "cells": [
  {
   "cell_type": "code",
   "execution_count": 1,
   "metadata": {},
   "outputs": [],
   "source": [
    "from sentence_transformers.cross_encoder import DisentangledCrossEncoderAdv \n",
    "from transformers import AutoTokenizer, AutoModel\n",
    "import numpy as np"
   ]
  },
  {
   "cell_type": "code",
   "execution_count": 14,
   "metadata": {},
   "outputs": [],
   "source": [
    "# Specify the pre-trained model name or path\n",
    "model_name = \"albert-base-v2\"\n",
    "\n",
    "# AutoTokenizer will automatically load the appropriate tokenizer\n",
    "tokenizer = AutoTokenizer.from_pretrained(model_name)\n",
    "\n",
    "# Example text to tokenize\n",
    "text = \"Hello, how are you?\"\n",
    "\n",
    "# Tokenize the text\n",
    "tokens = tokenizer(text)"
   ]
  },
  {
   "cell_type": "code",
   "execution_count": 15,
   "metadata": {},
   "outputs": [
    {
     "data": {
      "text/plain": [
       "{'input_ids': [2, 10975, 15, 184, 50, 42, 60, 3], 'token_type_ids': [0, 0, 0, 0, 0, 0, 0, 0], 'attention_mask': [1, 1, 1, 1, 1, 1, 1, 1]}"
      ]
     },
     "execution_count": 15,
     "metadata": {},
     "output_type": "execute_result"
    }
   ],
   "source": [
    "tokens"
   ]
  },
  {
   "cell_type": "code",
   "execution_count": 18,
   "metadata": {},
   "outputs": [],
   "source": [
    "# model_name = 'albert-base-v2'\n",
    "model_name = 'sentence-transformers/msmarco-MiniLM-L6-cos-v5'"
   ]
  },
  {
   "cell_type": "code",
   "execution_count": 19,
   "metadata": {},
   "outputs": [],
   "source": [
    "model = AutoModel.from_pretrained(model_name)"
   ]
  },
  {
   "cell_type": "code",
   "execution_count": 2,
   "metadata": {},
   "outputs": [
    {
     "name": "stdout",
     "output_type": "stream",
     "text": [
      "torch.Size([1, 10, 256])\n"
     ]
    }
   ],
   "source": [
    "from transformers import AutoTokenizer, AutoModel\n",
    "\n",
    "# Define the model and tokenizer names\n",
    "model_name = \"google/electra-small-discriminator\"\n",
    "tokenizer_name = \"google/electra-small-discriminator\"\n",
    "\n",
    "# Initialize the AutoTokenizer\n",
    "tokenizer = AutoTokenizer.from_pretrained(tokenizer_name)\n",
    "\n",
    "# Initialize the AutoModel\n",
    "model = AutoModel.from_pretrained(model_name)\n",
    "\n",
    "# Example input text\n",
    "input_text = \"Hello, how are you doing today?\"\n",
    "\n",
    "# Tokenize the input text\n",
    "tokens = tokenizer(input_text, return_tensors=\"pt\")\n",
    "\n",
    "# Forward pass through the model\n",
    "outputs = model(**tokens)\n",
    "\n",
    "# Print the output embeddings\n",
    "print(np.shape(outputs.last_hidden_state))\n"
   ]
  },
  {
   "cell_type": "code",
   "execution_count": 26,
   "metadata": {},
   "outputs": [
    {
     "name": "stdout",
     "output_type": "stream",
     "text": [
      "torch.Size([1, 10, 768])\n"
     ]
    }
   ],
   "source": []
  }
 ],
 "metadata": {
  "kernelspec": {
   "display_name": "Python 3",
   "language": "python",
   "name": "python3"
  },
  "language_info": {
   "codemirror_mode": {
    "name": "ipython",
    "version": 3
   },
   "file_extension": ".py",
   "mimetype": "text/x-python",
   "name": "python",
   "nbconvert_exporter": "python",
   "pygments_lexer": "ipython3",
   "version": "3.8.5"
  }
 },
 "nbformat": 4,
 "nbformat_minor": 4
}
